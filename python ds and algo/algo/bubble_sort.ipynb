{
 "cells": [
  {
   "cell_type": "code",
   "execution_count": 1,
   "id": "f05a2cc8",
   "metadata": {},
   "outputs": [
    {
     "name": "stdout",
     "output_type": "stream",
     "text": [
      "Sorted array is:\n",
      " 11\n",
      " 12\n",
      " 22\n",
      " 25\n",
      " 34\n",
      " 64\n",
      " 90\n"
     ]
    }
   ],
   "source": [
    "def bubble_sort(input):\n",
    "    leng = len(input)\n",
    "    for i in range(leng-1):\n",
    "        for j in range(0,leng-i-1):\n",
    "            if input[j]>input[j+1]:\n",
    "                input[j],input[j+1] = input[j+1],input[j]\n",
    "        \n",
    "input = [64, 34, 25, 12, 22, 11, 90]        \n",
    "bubble_sort(input)\n",
    "\n",
    " \n",
    "print (\"Sorted array is:\")\n",
    "for i in range(len(input)):\n",
    "    print (\"% d\" % input[i]),"
   ]
  },
  {
   "cell_type": "code",
   "execution_count": null,
   "id": "9058e1a0",
   "metadata": {},
   "outputs": [],
   "source": []
  }
 ],
 "metadata": {
  "kernelspec": {
   "display_name": "Python 3",
   "language": "python",
   "name": "python3"
  },
  "language_info": {
   "codemirror_mode": {
    "name": "ipython",
    "version": 3
   },
   "file_extension": ".py",
   "mimetype": "text/x-python",
   "name": "python",
   "nbconvert_exporter": "python",
   "pygments_lexer": "ipython3",
   "version": "3.8.8"
  }
 },
 "nbformat": 4,
 "nbformat_minor": 5
}
