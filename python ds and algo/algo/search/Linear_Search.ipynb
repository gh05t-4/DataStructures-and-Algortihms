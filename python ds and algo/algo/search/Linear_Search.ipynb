{
 "cells": [
  {
   "cell_type": "code",
   "execution_count": 1,
   "id": "f2f20cbc",
   "metadata": {},
   "outputs": [
    {
     "name": "stdout",
     "output_type": "stream",
     "text": [
      "Target found at index:  9\n"
     ]
    }
   ],
   "source": [
    "def linear_search(list,target):\n",
    "  \"\"\"\n",
    "  Return the index position of the target if found, else returns none\n",
    "  \"\"\"\n",
    "  for i in range(0,len(list)):\n",
    "    if list[i] == target:\n",
    "      return i\n",
    "  return None\n",
    "\n",
    "def verify(index):\n",
    "  if index is not None:\n",
    "    print(\"Target found at index: \",index)\n",
    "  else:\n",
    "    print(\"Target not found in list\")\n",
    "\n",
    "numbers = [1,2,3,4,5,6,7,8,9,10]\n",
    "result = linear_search(numbers,10)\n",
    "verify(result)"
   ]
  },
  {
   "cell_type": "code",
   "execution_count": null,
   "id": "5ef02c3e",
   "metadata": {},
   "outputs": [],
   "source": []
  }
 ],
 "metadata": {
  "kernelspec": {
   "display_name": "Python 3",
   "language": "python",
   "name": "python3"
  },
  "language_info": {
   "codemirror_mode": {
    "name": "ipython",
    "version": 3
   },
   "file_extension": ".py",
   "mimetype": "text/x-python",
   "name": "python",
   "nbconvert_exporter": "python",
   "pygments_lexer": "ipython3",
   "version": "3.8.8"
  }
 },
 "nbformat": 4,
 "nbformat_minor": 5
}
